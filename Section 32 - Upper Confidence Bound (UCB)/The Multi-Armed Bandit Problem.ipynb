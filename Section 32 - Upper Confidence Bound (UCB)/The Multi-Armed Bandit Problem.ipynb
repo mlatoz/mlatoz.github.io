{
 "cells": [
  {
   "cell_type": "markdown",
   "metadata": {},
   "source": [
    "# Upper Confidence Bound (UCB)\n",
    "<hr>"
   ]
  },
  {
   "cell_type": "markdown",
   "metadata": {},
   "source": [
    "## The Multi-Armed Bandit Problem (ChatGPT Notes)\n",
    "\n",
    "1. **Introduction**\n",
    "    - Classic problem in probability theory and decision-making.\n",
    "    - Used in machine learning, reinforcement learning, and optimization.\n",
    "    - Derived from the concept of a gambler facing multiple slot machines.\n",
    "<br>\n",
    "<br>\n",
    "\n",
    "2. **Core Components**\n",
    "\n",
    "    a. Arms\n",
    "      - Set of available actions or options.\n",
    "      - Each arm has an associated reward distribution.\n",
    "\n",
    "    b. Reward Distributions\n",
    "      - Probability distributions governing rewards for each arm.\n",
    "      - Distributions can vary (e.g., Gaussian, Bernoulli).\n",
    "\n",
    "    c. Exploration vs. Exploitation\n",
    "      - Balancing trade-off between exploring new arms and exploiting known high-reward arms.\n",
    "\n",
    "    d. Regret\n",
    "      - Measure of reward lost by not always choosing the best arm.\n",
    "      - Minimizing regret is a primary objective.\n",
    "<br>\n",
    "<br>\n",
    "\n",
    "3. **Algorithms and Strategies**\n",
    "    a. Epsilon-Greedy\n",
    "      - Selects best-known arm with probability 1 - ε.\n",
    "      - Explores a random arm with probability ε.\n",
    "    b. Upper Confidence Bound (UCB)\n",
    "      - Balances exploration and exploitation.\n",
    "      - Estimates upper confidence bounds for arm rewards.\n",
    "      - Chooses arm with highest upper bound.\n",
    "    c. Thompson Sampling\n",
    "      - Probabilistic approach.\n",
    "      - Samples from posterior distribution of arm rewards.\n",
    "      - Chooses arm with highest sample.\n",
    "    d. Exploitation-Exploration Strategies\n",
    "      - Includes softmax action selection, Boltzmann exploration, and more.\n",
    "<br>\n",
    "<br>\n",
    "\n",
    "4. **Applications**\n",
    "    - Used in recommendation systems, clinical trials, online advertising, resource allocation, and more.\n",
    "    - Important for making sequential decisions under uncertainty."
   ]
  }
 ],
 "metadata": {
  "language_info": {
   "name": "python"
  },
  "orig_nbformat": 4
 },
 "nbformat": 4,
 "nbformat_minor": 2
}
