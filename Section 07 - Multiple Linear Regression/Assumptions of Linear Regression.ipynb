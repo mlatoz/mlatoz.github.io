{
 "cells": [
  {
   "cell_type": "markdown",
   "metadata": {},
   "source": [
    "# Assumptions of Linear Regression\n",
    "\n",
    "## 1. Linearity\n",
    "* Linear relationship between Y and each X\n",
    "\n",
    "## 2. Homoscedasticity\n",
    "* Equal variance\n",
    "\n",
    "## 3. Multivariate Normality\n",
    "* Normality of error distribution\n",
    "\n",
    "## 4. Independence\n",
    "* of observations. Includes \"no autocorrelation\"\n",
    "\n",
    "## 5. Lack of Multicollinearity\n",
    "* Predictors are not correlated with each other\n",
    "\n",
    "## 6. The Outlier Check\n",
    "* This is not an assumption, but an \"extra\"\n",
    "\n",
    "<hr>"
   ]
  }
 ],
 "metadata": {
  "language_info": {
   "name": "python"
  },
  "orig_nbformat": 4
 },
 "nbformat": 4,
 "nbformat_minor": 2
}
