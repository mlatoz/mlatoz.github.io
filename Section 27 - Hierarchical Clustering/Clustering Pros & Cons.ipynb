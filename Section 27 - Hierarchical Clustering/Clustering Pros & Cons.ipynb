{
 "cells": [
  {
   "cell_type": "markdown",
   "metadata": {},
   "source": [
    "# Clustering - Pros & Cons\n",
    "\n",
    "<table>\n",
    "    <tr>\n",
    "        <th>Clustering Model</th>\n",
    "        <th>Pros</th>\n",
    "        <th>Cons</th>\n",
    "    </tr>\n",
    "    <tr>\n",
    "        <td>K-Means</td>\n",
    "        <td>Simple to understand, easily adaptable, works well on small or large datasets, fast, efficient and performant</td>\n",
    "        <td>Need to choose the number of clusters</td>\n",
    "    </tr>\n",
    "    <tr>\n",
    "        <td>Hierarchical Clustering</td>\n",
    "        <td>The optimal number of clusters can be obtained by the model itself, practical visualisation with the dendrogram</td>\n",
    "        <td>Not appropriate for large datasets</td>\n",
    "    </tr>\n",
    "</table>"
   ]
  }
 ],
 "metadata": {
  "language_info": {
   "name": "python"
  },
  "orig_nbformat": 4
 },
 "nbformat": 4,
 "nbformat_minor": 2
}
