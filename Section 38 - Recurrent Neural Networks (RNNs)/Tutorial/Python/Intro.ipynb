{
 "cells": [
  {
   "cell_type": "markdown",
   "metadata": {},
   "source": [
    "# Recurrent Neural Networks (RNNs)\n",
    "<hr>"
   ]
  },
  {
   "cell_type": "markdown",
   "metadata": {},
   "source": [
    "## Building a RNN\n",
    "<hr>"
   ]
  },
  {
   "cell_type": "markdown",
   "metadata": {},
   "source": [
    "### Part 1 - Data Preprocessing"
   ]
  },
  {
   "cell_type": "markdown",
   "metadata": {},
   "source": [
    "#### Importing the Libraries"
   ]
  },
  {
   "cell_type": "code",
   "execution_count": 1,
   "metadata": {},
   "outputs": [],
   "source": [
    "import numpy as np\n",
    "import pandas as pd\n",
    "import matplotlib.pyplot as plt"
   ]
  },
  {
   "cell_type": "markdown",
   "metadata": {},
   "source": [
    "#### Importing the Training Set"
   ]
  },
  {
   "cell_type": "code",
   "execution_count": 2,
   "metadata": {},
   "outputs": [],
   "source": [
    "dataset_train = pd.read_csv(\"dataset/Google_Stock_Price_Train.csv\")\n",
    "training_set = dataset_train.iloc[:, 1:2].values"
   ]
  },
  {
   "cell_type": "code",
   "execution_count": 3,
   "metadata": {},
   "outputs": [
    {
     "data": {
      "text/html": [
       "<div>\n",
       "<style scoped>\n",
       "    .dataframe tbody tr th:only-of-type {\n",
       "        vertical-align: middle;\n",
       "    }\n",
       "\n",
       "    .dataframe tbody tr th {\n",
       "        vertical-align: top;\n",
       "    }\n",
       "\n",
       "    .dataframe thead th {\n",
       "        text-align: right;\n",
       "    }\n",
       "</style>\n",
       "<table border=\"1\" class=\"dataframe\">\n",
       "  <thead>\n",
       "    <tr style=\"text-align: right;\">\n",
       "      <th></th>\n",
       "      <th>Date</th>\n",
       "      <th>Open</th>\n",
       "      <th>High</th>\n",
       "      <th>Low</th>\n",
       "      <th>Close</th>\n",
       "      <th>Volume</th>\n",
       "    </tr>\n",
       "  </thead>\n",
       "  <tbody>\n",
       "    <tr>\n",
       "      <th>0</th>\n",
       "      <td>1/3/2012</td>\n",
       "      <td>325.25</td>\n",
       "      <td>332.83</td>\n",
       "      <td>324.97</td>\n",
       "      <td>663.59</td>\n",
       "      <td>7,380,500</td>\n",
       "    </tr>\n",
       "    <tr>\n",
       "      <th>1</th>\n",
       "      <td>1/4/2012</td>\n",
       "      <td>331.27</td>\n",
       "      <td>333.87</td>\n",
       "      <td>329.08</td>\n",
       "      <td>666.45</td>\n",
       "      <td>5,749,400</td>\n",
       "    </tr>\n",
       "    <tr>\n",
       "      <th>2</th>\n",
       "      <td>1/5/2012</td>\n",
       "      <td>329.83</td>\n",
       "      <td>330.75</td>\n",
       "      <td>326.89</td>\n",
       "      <td>657.21</td>\n",
       "      <td>6,590,300</td>\n",
       "    </tr>\n",
       "    <tr>\n",
       "      <th>3</th>\n",
       "      <td>1/6/2012</td>\n",
       "      <td>328.34</td>\n",
       "      <td>328.77</td>\n",
       "      <td>323.68</td>\n",
       "      <td>648.24</td>\n",
       "      <td>5,405,900</td>\n",
       "    </tr>\n",
       "    <tr>\n",
       "      <th>4</th>\n",
       "      <td>1/9/2012</td>\n",
       "      <td>322.04</td>\n",
       "      <td>322.29</td>\n",
       "      <td>309.46</td>\n",
       "      <td>620.76</td>\n",
       "      <td>11,688,800</td>\n",
       "    </tr>\n",
       "    <tr>\n",
       "      <th>...</th>\n",
       "      <td>...</td>\n",
       "      <td>...</td>\n",
       "      <td>...</td>\n",
       "      <td>...</td>\n",
       "      <td>...</td>\n",
       "      <td>...</td>\n",
       "    </tr>\n",
       "    <tr>\n",
       "      <th>1253</th>\n",
       "      <td>12/23/2016</td>\n",
       "      <td>790.90</td>\n",
       "      <td>792.74</td>\n",
       "      <td>787.28</td>\n",
       "      <td>789.91</td>\n",
       "      <td>623,400</td>\n",
       "    </tr>\n",
       "    <tr>\n",
       "      <th>1254</th>\n",
       "      <td>12/27/2016</td>\n",
       "      <td>790.68</td>\n",
       "      <td>797.86</td>\n",
       "      <td>787.66</td>\n",
       "      <td>791.55</td>\n",
       "      <td>789,100</td>\n",
       "    </tr>\n",
       "    <tr>\n",
       "      <th>1255</th>\n",
       "      <td>12/28/2016</td>\n",
       "      <td>793.70</td>\n",
       "      <td>794.23</td>\n",
       "      <td>783.20</td>\n",
       "      <td>785.05</td>\n",
       "      <td>1,153,800</td>\n",
       "    </tr>\n",
       "    <tr>\n",
       "      <th>1256</th>\n",
       "      <td>12/29/2016</td>\n",
       "      <td>783.33</td>\n",
       "      <td>785.93</td>\n",
       "      <td>778.92</td>\n",
       "      <td>782.79</td>\n",
       "      <td>744,300</td>\n",
       "    </tr>\n",
       "    <tr>\n",
       "      <th>1257</th>\n",
       "      <td>12/30/2016</td>\n",
       "      <td>782.75</td>\n",
       "      <td>782.78</td>\n",
       "      <td>770.41</td>\n",
       "      <td>771.82</td>\n",
       "      <td>1,770,000</td>\n",
       "    </tr>\n",
       "  </tbody>\n",
       "</table>\n",
       "<p>1258 rows × 6 columns</p>\n",
       "</div>"
      ],
      "text/plain": [
       "            Date    Open    High     Low   Close      Volume\n",
       "0       1/3/2012  325.25  332.83  324.97  663.59   7,380,500\n",
       "1       1/4/2012  331.27  333.87  329.08  666.45   5,749,400\n",
       "2       1/5/2012  329.83  330.75  326.89  657.21   6,590,300\n",
       "3       1/6/2012  328.34  328.77  323.68  648.24   5,405,900\n",
       "4       1/9/2012  322.04  322.29  309.46  620.76  11,688,800\n",
       "...          ...     ...     ...     ...     ...         ...\n",
       "1253  12/23/2016  790.90  792.74  787.28  789.91     623,400\n",
       "1254  12/27/2016  790.68  797.86  787.66  791.55     789,100\n",
       "1255  12/28/2016  793.70  794.23  783.20  785.05   1,153,800\n",
       "1256  12/29/2016  783.33  785.93  778.92  782.79     744,300\n",
       "1257  12/30/2016  782.75  782.78  770.41  771.82   1,770,000\n",
       "\n",
       "[1258 rows x 6 columns]"
      ]
     },
     "execution_count": 3,
     "metadata": {},
     "output_type": "execute_result"
    }
   ],
   "source": [
    "dataset_train"
   ]
  },
  {
   "cell_type": "code",
   "execution_count": 4,
   "metadata": {},
   "outputs": [
    {
     "data": {
      "text/plain": [
       "array([[325.25],\n",
       "       [331.27],\n",
       "       [329.83],\n",
       "       ...,\n",
       "       [793.7 ],\n",
       "       [783.33],\n",
       "       [782.75]])"
      ]
     },
     "execution_count": 4,
     "metadata": {},
     "output_type": "execute_result"
    }
   ],
   "source": [
    "training_set"
   ]
  },
  {
   "cell_type": "markdown",
   "metadata": {},
   "source": [
    "#### Feature Scaling\n",
    "\n",
    "**Two Ways of Applying Feature Scaling:**\n",
    "\n",
    "<table>\n",
    "    <tr>\n",
    "        <th>Standardisation</th>\n",
    "        <th>Normalisation</th>\n",
    "    </tr>\n",
    "    <tr>\n",
    "        <td>x<sub>stand</sub> = x - mean(x) <i><b>/</i></b> standard deviation(x)</td>\n",
    "        <td>x<sub>norm</sub> = x - min(x) <i><b>/</i></b> max(x) - min(x)</td>\n",
    "    </tr>\n",
    "</table>"
   ]
  },
  {
   "cell_type": "code",
   "execution_count": 5,
   "metadata": {},
   "outputs": [],
   "source": [
    "from sklearn.preprocessing import MinMaxScaler\n",
    "\n",
    "sc = MinMaxScaler(feature_range = (0, 1), copy = True)\n",
    "training_set_scaled = sc.fit_transform(training_set)"
   ]
  },
  {
   "cell_type": "code",
   "execution_count": 6,
   "metadata": {},
   "outputs": [
    {
     "data": {
      "text/plain": [
       "array([[0.08581368],\n",
       "       [0.09701243],\n",
       "       [0.09433366],\n",
       "       ...,\n",
       "       [0.95725128],\n",
       "       [0.93796041],\n",
       "       [0.93688146]])"
      ]
     },
     "execution_count": 6,
     "metadata": {},
     "output_type": "execute_result"
    }
   ],
   "source": [
    "training_set_scaled"
   ]
  },
  {
   "cell_type": "markdown",
   "metadata": {},
   "source": [
    "#### Creating a Data Structure with 60 Timesteps and 1 Output"
   ]
  },
  {
   "cell_type": "code",
   "execution_count": 7,
   "metadata": {},
   "outputs": [],
   "source": [
    "X_train = []\n",
    "y_train = []\n",
    "\n",
    "for i in range(60, 1258):\n",
    "    X_train.append(training_set_scaled[i-60:i, 0])\n",
    "    y_train.append(training_set_scaled[i, 0])\n",
    "\n",
    "X_train, y_train = np.array(X_train), np.array(y_train)"
   ]
  },
  {
   "cell_type": "code",
   "execution_count": 8,
   "metadata": {},
   "outputs": [
    {
     "data": {
      "text/plain": [
       "array([[0.08581368, 0.09701243, 0.09433366, ..., 0.07846566, 0.08034452,\n",
       "        0.08497656],\n",
       "       [0.09701243, 0.09433366, 0.09156187, ..., 0.08034452, 0.08497656,\n",
       "        0.08627874],\n",
       "       [0.09433366, 0.09156187, 0.07984225, ..., 0.08497656, 0.08627874,\n",
       "        0.08471612],\n",
       "       ...,\n",
       "       [0.92106928, 0.92438053, 0.93048218, ..., 0.95475854, 0.95204256,\n",
       "        0.95163331],\n",
       "       [0.92438053, 0.93048218, 0.9299055 , ..., 0.95204256, 0.95163331,\n",
       "        0.95725128],\n",
       "       [0.93048218, 0.9299055 , 0.93113327, ..., 0.95163331, 0.95725128,\n",
       "        0.93796041]])"
      ]
     },
     "execution_count": 8,
     "metadata": {},
     "output_type": "execute_result"
    }
   ],
   "source": [
    "X_train"
   ]
  },
  {
   "cell_type": "code",
   "execution_count": 9,
   "metadata": {},
   "outputs": [
    {
     "data": {
      "text/plain": [
       "array([0.08627874, 0.08471612, 0.07454052, ..., 0.95725128, 0.93796041,\n",
       "       0.93688146])"
      ]
     },
     "execution_count": 9,
     "metadata": {},
     "output_type": "execute_result"
    }
   ],
   "source": [
    "y_train"
   ]
  },
  {
   "cell_type": "markdown",
   "metadata": {},
   "source": [
    "#### Reshaping"
   ]
  },
  {
   "cell_type": "code",
   "execution_count": 10,
   "metadata": {},
   "outputs": [
    {
     "data": {
      "text/plain": [
       "array([[[0.08581368],\n",
       "        [0.09701243],\n",
       "        [0.09433366],\n",
       "        ...,\n",
       "        [0.07846566],\n",
       "        [0.08034452],\n",
       "        [0.08497656]],\n",
       "\n",
       "       [[0.09701243],\n",
       "        [0.09433366],\n",
       "        [0.09156187],\n",
       "        ...,\n",
       "        [0.08034452],\n",
       "        [0.08497656],\n",
       "        [0.08627874]],\n",
       "\n",
       "       [[0.09433366],\n",
       "        [0.09156187],\n",
       "        [0.07984225],\n",
       "        ...,\n",
       "        [0.08497656],\n",
       "        [0.08627874],\n",
       "        [0.08471612]],\n",
       "\n",
       "       ...,\n",
       "\n",
       "       [[0.92106928],\n",
       "        [0.92438053],\n",
       "        [0.93048218],\n",
       "        ...,\n",
       "        [0.95475854],\n",
       "        [0.95204256],\n",
       "        [0.95163331]],\n",
       "\n",
       "       [[0.92438053],\n",
       "        [0.93048218],\n",
       "        [0.9299055 ],\n",
       "        ...,\n",
       "        [0.95204256],\n",
       "        [0.95163331],\n",
       "        [0.95725128]],\n",
       "\n",
       "       [[0.93048218],\n",
       "        [0.9299055 ],\n",
       "        [0.93113327],\n",
       "        ...,\n",
       "        [0.95163331],\n",
       "        [0.95725128],\n",
       "        [0.93796041]]])"
      ]
     },
     "execution_count": 10,
     "metadata": {},
     "output_type": "execute_result"
    }
   ],
   "source": [
    "X_train = np.reshape(X_train, (X_train.shape[0], X_train.shape[1], 1))\n",
    "X_train"
   ]
  },
  {
   "cell_type": "markdown",
   "metadata": {},
   "source": [
    "<hr>"
   ]
  },
  {
   "cell_type": "markdown",
   "metadata": {},
   "source": [
    "### Part 2 - Building and Training the RNN"
   ]
  },
  {
   "cell_type": "markdown",
   "metadata": {},
   "source": [
    "#### Importing the Keras Libraries and Packages"
   ]
  },
  {
   "cell_type": "code",
   "execution_count": 11,
   "metadata": {},
   "outputs": [],
   "source": [
    "from keras.models import Sequential\n",
    "from keras.layers import Dense\n",
    "from keras.layers import LSTM\n",
    "from keras.layers import Dropout"
   ]
  },
  {
   "cell_type": "markdown",
   "metadata": {},
   "source": [
    "#### Initialising the RNN"
   ]
  },
  {
   "cell_type": "code",
   "execution_count": 12,
   "metadata": {},
   "outputs": [],
   "source": [
    "regressor = Sequential()"
   ]
  },
  {
   "cell_type": "markdown",
   "metadata": {},
   "source": [
    "#### Adding the First LSTM Layer and Some Dropout Regularisation"
   ]
  },
  {
   "cell_type": "code",
   "execution_count": 13,
   "metadata": {},
   "outputs": [],
   "source": [
    "regressor.add(LSTM(units = 50, return_sequences = True, input_shape = (X_train.shape[1], 1)))\n",
    "regressor.add(Dropout(0.2))"
   ]
  },
  {
   "cell_type": "markdown",
   "metadata": {},
   "source": [
    "#### Adding a Second LSTM Layer and Some Dropout Regularisation"
   ]
  },
  {
   "cell_type": "code",
   "execution_count": 14,
   "metadata": {},
   "outputs": [],
   "source": [
    "regressor.add(LSTM(units = 50, return_sequences = True))\n",
    "regressor.add(Dropout(0.2))"
   ]
  },
  {
   "cell_type": "markdown",
   "metadata": {},
   "source": [
    "#### Adding a Third LSTM Layer and Some Dropout Regularisation"
   ]
  },
  {
   "cell_type": "code",
   "execution_count": 15,
   "metadata": {},
   "outputs": [],
   "source": [
    "regressor.add(LSTM(units = 50, return_sequences = True))\n",
    "regressor.add(Dropout(0.2))"
   ]
  },
  {
   "cell_type": "markdown",
   "metadata": {},
   "source": [
    "#### Adding a Fourth LSTM Layer and Some Dropout Regularisation"
   ]
  },
  {
   "cell_type": "code",
   "execution_count": 16,
   "metadata": {},
   "outputs": [],
   "source": [
    "regressor.add(LSTM(units = 50))\n",
    "regressor.add(Dropout(0.2))"
   ]
  },
  {
   "cell_type": "markdown",
   "metadata": {},
   "source": [
    "#### Adding the Output Layer"
   ]
  },
  {
   "cell_type": "code",
   "execution_count": 17,
   "metadata": {},
   "outputs": [],
   "source": [
    "regressor.add(Dense(units = 1))"
   ]
  },
  {
   "cell_type": "markdown",
   "metadata": {},
   "source": [
    "#### Compiling the RNN"
   ]
  },
  {
   "cell_type": "code",
   "execution_count": 18,
   "metadata": {},
   "outputs": [],
   "source": [
    "regressor.compile(optimizer = \"adam\", loss = \"mean_squared_error\")"
   ]
  },
  {
   "cell_type": "markdown",
   "metadata": {},
   "source": [
    "#### Fitting the RNN to the Training Set"
   ]
  },
  {
   "cell_type": "code",
   "execution_count": 19,
   "metadata": {},
   "outputs": [
    {
     "name": "stdout",
     "output_type": "stream",
     "text": [
      "Epoch 1/200\n",
      "38/38 [==============================] - 24s 126ms/step - loss: 0.0455\n",
      "Epoch 2/200\n",
      "38/38 [==============================] - 5s 125ms/step - loss: 0.0056\n",
      "Epoch 3/200\n",
      "38/38 [==============================] - 5s 124ms/step - loss: 0.0055\n",
      "Epoch 4/200\n",
      "38/38 [==============================] - 4s 114ms/step - loss: 0.0049\n",
      "Epoch 5/200\n",
      "38/38 [==============================] - 4s 103ms/step - loss: 0.0053\n",
      "Epoch 6/200\n",
      "38/38 [==============================] - 5s 130ms/step - loss: 0.0049\n",
      "Epoch 7/200\n",
      "38/38 [==============================] - 4s 117ms/step - loss: 0.0057\n",
      "Epoch 8/200\n",
      "38/38 [==============================] - 4s 109ms/step - loss: 0.0051\n",
      "Epoch 9/200\n",
      "38/38 [==============================] - 4s 113ms/step - loss: 0.0054\n",
      "Epoch 10/200\n",
      "38/38 [==============================] - 4s 106ms/step - loss: 0.0048\n",
      "Epoch 11/200\n",
      "38/38 [==============================] - 4s 106ms/step - loss: 0.0050\n",
      "Epoch 12/200\n",
      "38/38 [==============================] - 4s 101ms/step - loss: 0.0042\n",
      "Epoch 13/200\n",
      "38/38 [==============================] - 4s 105ms/step - loss: 0.0040\n",
      "Epoch 14/200\n",
      "38/38 [==============================] - 4s 111ms/step - loss: 0.0039\n",
      "Epoch 15/200\n",
      "38/38 [==============================] - 5s 125ms/step - loss: 0.0042\n",
      "Epoch 16/200\n",
      "38/38 [==============================] - 5s 126ms/step - loss: 0.0037\n",
      "Epoch 17/200\n",
      "38/38 [==============================] - 5s 124ms/step - loss: 0.0035\n",
      "Epoch 18/200\n",
      "38/38 [==============================] - 5s 125ms/step - loss: 0.0037\n",
      "Epoch 19/200\n",
      "38/38 [==============================] - 5s 125ms/step - loss: 0.0034\n",
      "Epoch 20/200\n",
      "38/38 [==============================] - 5s 124ms/step - loss: 0.0036\n",
      "Epoch 21/200\n",
      "38/38 [==============================] - 5s 124ms/step - loss: 0.0036\n",
      "Epoch 22/200\n",
      "38/38 [==============================] - 5s 132ms/step - loss: 0.0034\n",
      "Epoch 23/200\n",
      "38/38 [==============================] - 4s 116ms/step - loss: 0.0036\n",
      "Epoch 24/200\n",
      "38/38 [==============================] - 4s 107ms/step - loss: 0.0035\n",
      "Epoch 25/200\n",
      "38/38 [==============================] - 4s 105ms/step - loss: 0.0038\n",
      "Epoch 26/200\n",
      "38/38 [==============================] - 4s 102ms/step - loss: 0.0035\n",
      "Epoch 27/200\n",
      "38/38 [==============================] - 4s 115ms/step - loss: 0.0035\n",
      "Epoch 28/200\n",
      "38/38 [==============================] - 5s 123ms/step - loss: 0.0029\n",
      "Epoch 29/200\n",
      "38/38 [==============================] - 5s 123ms/step - loss: 0.0033\n",
      "Epoch 30/200\n",
      "38/38 [==============================] - 5s 124ms/step - loss: 0.0033\n",
      "Epoch 31/200\n",
      "38/38 [==============================] - 5s 122ms/step - loss: 0.0031\n",
      "Epoch 32/200\n",
      "38/38 [==============================] - 5s 124ms/step - loss: 0.0029\n",
      "Epoch 33/200\n",
      "38/38 [==============================] - 5s 124ms/step - loss: 0.0029\n",
      "Epoch 34/200\n",
      "38/38 [==============================] - 5s 126ms/step - loss: 0.0029\n",
      "Epoch 35/200\n",
      "38/38 [==============================] - 5s 128ms/step - loss: 0.0029\n",
      "Epoch 36/200\n",
      "38/38 [==============================] - 5s 128ms/step - loss: 0.0030\n",
      "Epoch 37/200\n",
      "38/38 [==============================] - 5s 133ms/step - loss: 0.0028\n",
      "Epoch 38/200\n",
      "38/38 [==============================] - 5s 124ms/step - loss: 0.0030\n",
      "Epoch 39/200\n",
      "38/38 [==============================] - 5s 123ms/step - loss: 0.0028\n",
      "Epoch 40/200\n",
      "38/38 [==============================] - 5s 126ms/step - loss: 0.0026\n",
      "Epoch 41/200\n",
      "38/38 [==============================] - 5s 120ms/step - loss: 0.0027\n",
      "Epoch 42/200\n",
      "38/38 [==============================] - 4s 108ms/step - loss: 0.0027\n",
      "Epoch 43/200\n",
      "38/38 [==============================] - 4s 109ms/step - loss: 0.0027\n",
      "Epoch 44/200\n",
      "38/38 [==============================] - 4s 109ms/step - loss: 0.0026\n",
      "Epoch 45/200\n",
      "38/38 [==============================] - 4s 108ms/step - loss: 0.0027\n",
      "Epoch 46/200\n",
      "38/38 [==============================] - 4s 110ms/step - loss: 0.0028\n",
      "Epoch 47/200\n",
      "38/38 [==============================] - 4s 108ms/step - loss: 0.0023\n",
      "Epoch 48/200\n",
      "38/38 [==============================] - 4s 107ms/step - loss: 0.0023\n",
      "Epoch 49/200\n",
      "38/38 [==============================] - 4s 104ms/step - loss: 0.0023\n",
      "Epoch 50/200\n",
      "38/38 [==============================] - 4s 102ms/step - loss: 0.0024\n",
      "Epoch 51/200\n",
      "38/38 [==============================] - 4s 101ms/step - loss: 0.0025\n",
      "Epoch 52/200\n",
      "38/38 [==============================] - 4s 102ms/step - loss: 0.0024\n",
      "Epoch 53/200\n",
      "38/38 [==============================] - 4s 101ms/step - loss: 0.0023\n",
      "Epoch 54/200\n",
      "38/38 [==============================] - 4s 101ms/step - loss: 0.0023\n",
      "Epoch 55/200\n",
      "38/38 [==============================] - 4s 101ms/step - loss: 0.0024\n",
      "Epoch 56/200\n",
      "38/38 [==============================] - 4s 101ms/step - loss: 0.0023\n",
      "Epoch 57/200\n",
      "38/38 [==============================] - 4s 101ms/step - loss: 0.0024\n",
      "Epoch 58/200\n",
      "38/38 [==============================] - 4s 101ms/step - loss: 0.0024\n",
      "Epoch 59/200\n",
      "38/38 [==============================] - 4s 101ms/step - loss: 0.0022\n",
      "Epoch 60/200\n",
      "38/38 [==============================] - 4s 99ms/step - loss: 0.0020\n",
      "Epoch 61/200\n",
      "38/38 [==============================] - 4s 99ms/step - loss: 0.0021\n",
      "Epoch 62/200\n",
      "38/38 [==============================] - 4s 101ms/step - loss: 0.0020\n",
      "Epoch 63/200\n",
      "38/38 [==============================] - 4s 101ms/step - loss: 0.0020\n",
      "Epoch 64/200\n",
      "38/38 [==============================] - 4s 101ms/step - loss: 0.0019\n",
      "Epoch 65/200\n",
      "38/38 [==============================] - 4s 102ms/step - loss: 0.0019\n",
      "Epoch 66/200\n",
      "38/38 [==============================] - 4s 101ms/step - loss: 0.0020\n",
      "Epoch 67/200\n",
      "38/38 [==============================] - 4s 100ms/step - loss: 0.0021\n",
      "Epoch 68/200\n",
      "38/38 [==============================] - 4s 101ms/step - loss: 0.0019\n",
      "Epoch 69/200\n",
      "38/38 [==============================] - 4s 100ms/step - loss: 0.0017\n",
      "Epoch 70/200\n",
      "38/38 [==============================] - 4s 100ms/step - loss: 0.0019\n",
      "Epoch 71/200\n",
      "38/38 [==============================] - 4s 101ms/step - loss: 0.0017\n",
      "Epoch 72/200\n",
      "38/38 [==============================] - 4s 101ms/step - loss: 0.0020\n",
      "Epoch 73/200\n",
      "38/38 [==============================] - 4s 101ms/step - loss: 0.0020\n",
      "Epoch 74/200\n",
      "38/38 [==============================] - 4s 99ms/step - loss: 0.0020\n",
      "Epoch 75/200\n",
      "38/38 [==============================] - 4s 102ms/step - loss: 0.0018\n",
      "Epoch 76/200\n",
      "38/38 [==============================] - 4s 101ms/step - loss: 0.0017\n",
      "Epoch 77/200\n",
      "38/38 [==============================] - 4s 101ms/step - loss: 0.0020\n",
      "Epoch 78/200\n",
      "38/38 [==============================] - 4s 100ms/step - loss: 0.0019\n",
      "Epoch 79/200\n",
      "38/38 [==============================] - 4s 100ms/step - loss: 0.0018\n",
      "Epoch 80/200\n",
      "38/38 [==============================] - 4s 102ms/step - loss: 0.0017\n",
      "Epoch 81/200\n",
      "38/38 [==============================] - 4s 101ms/step - loss: 0.0017\n",
      "Epoch 82/200\n",
      "38/38 [==============================] - 4s 103ms/step - loss: 0.0016\n",
      "Epoch 83/200\n",
      "38/38 [==============================] - 4s 101ms/step - loss: 0.0016\n",
      "Epoch 84/200\n",
      "38/38 [==============================] - 4s 102ms/step - loss: 0.0016\n",
      "Epoch 85/200\n",
      "38/38 [==============================] - 4s 101ms/step - loss: 0.0016\n",
      "Epoch 86/200\n",
      "38/38 [==============================] - 4s 102ms/step - loss: 0.0015\n",
      "Epoch 87/200\n",
      "38/38 [==============================] - 4s 103ms/step - loss: 0.0017\n",
      "Epoch 88/200\n",
      "38/38 [==============================] - 4s 102ms/step - loss: 0.0015\n",
      "Epoch 89/200\n",
      "38/38 [==============================] - 4s 101ms/step - loss: 0.0015\n",
      "Epoch 90/200\n",
      "38/38 [==============================] - 4s 102ms/step - loss: 0.0015\n",
      "Epoch 91/200\n",
      "38/38 [==============================] - 4s 110ms/step - loss: 0.0015\n",
      "Epoch 92/200\n",
      "38/38 [==============================] - 4s 106ms/step - loss: 0.0016\n",
      "Epoch 93/200\n",
      "38/38 [==============================] - 4s 107ms/step - loss: 0.0016\n",
      "Epoch 94/200\n",
      "38/38 [==============================] - 4s 110ms/step - loss: 0.0016\n",
      "Epoch 95/200\n",
      "38/38 [==============================] - 4s 111ms/step - loss: 0.0019\n",
      "Epoch 96/200\n",
      "38/38 [==============================] - 4s 103ms/step - loss: 0.0015\n",
      "Epoch 97/200\n",
      "38/38 [==============================] - 4s 103ms/step - loss: 0.0015\n",
      "Epoch 98/200\n",
      "38/38 [==============================] - 4s 102ms/step - loss: 0.0014\n",
      "Epoch 99/200\n",
      "38/38 [==============================] - 4s 101ms/step - loss: 0.0015\n",
      "Epoch 100/200\n",
      "38/38 [==============================] - 4s 102ms/step - loss: 0.0014\n",
      "Epoch 101/200\n",
      "38/38 [==============================] - 4s 101ms/step - loss: 0.0013\n",
      "Epoch 102/200\n",
      "38/38 [==============================] - 4s 101ms/step - loss: 0.0014\n",
      "Epoch 103/200\n",
      "38/38 [==============================] - 4s 101ms/step - loss: 0.0014\n",
      "Epoch 104/200\n",
      "38/38 [==============================] - 4s 101ms/step - loss: 0.0014\n",
      "Epoch 105/200\n",
      "38/38 [==============================] - 4s 101ms/step - loss: 0.0013\n",
      "Epoch 106/200\n",
      "38/38 [==============================] - 4s 102ms/step - loss: 0.0013\n",
      "Epoch 107/200\n",
      "38/38 [==============================] - 4s 102ms/step - loss: 0.0016\n",
      "Epoch 108/200\n",
      "38/38 [==============================] - 4s 102ms/step - loss: 0.0013\n",
      "Epoch 109/200\n",
      "38/38 [==============================] - 4s 101ms/step - loss: 0.0014\n",
      "Epoch 110/200\n",
      "38/38 [==============================] - 4s 103ms/step - loss: 0.0012\n",
      "Epoch 111/200\n",
      "38/38 [==============================] - 4s 103ms/step - loss: 0.0013\n",
      "Epoch 112/200\n",
      "38/38 [==============================] - 4s 103ms/step - loss: 0.0015\n",
      "Epoch 113/200\n",
      "38/38 [==============================] - 4s 100ms/step - loss: 0.0014\n",
      "Epoch 114/200\n",
      "38/38 [==============================] - 4s 102ms/step - loss: 0.0014\n",
      "Epoch 115/200\n",
      "38/38 [==============================] - 4s 102ms/step - loss: 0.0014\n",
      "Epoch 116/200\n",
      "38/38 [==============================] - 4s 101ms/step - loss: 0.0014\n",
      "Epoch 117/200\n",
      "38/38 [==============================] - 4s 100ms/step - loss: 0.0013\n",
      "Epoch 118/200\n",
      "38/38 [==============================] - 4s 102ms/step - loss: 0.0015\n",
      "Epoch 119/200\n",
      "38/38 [==============================] - 4s 101ms/step - loss: 0.0015\n",
      "Epoch 120/200\n",
      "38/38 [==============================] - 4s 102ms/step - loss: 0.0014\n",
      "Epoch 121/200\n",
      "38/38 [==============================] - 4s 102ms/step - loss: 0.0013\n",
      "Epoch 122/200\n",
      "38/38 [==============================] - 4s 102ms/step - loss: 0.0014\n",
      "Epoch 123/200\n",
      "38/38 [==============================] - 4s 101ms/step - loss: 0.0015\n",
      "Epoch 124/200\n",
      "38/38 [==============================] - 4s 102ms/step - loss: 0.0013\n",
      "Epoch 125/200\n",
      "38/38 [==============================] - 4s 104ms/step - loss: 0.0013\n",
      "Epoch 126/200\n",
      "38/38 [==============================] - 4s 102ms/step - loss: 0.0013\n",
      "Epoch 127/200\n",
      "38/38 [==============================] - 4s 102ms/step - loss: 0.0012\n",
      "Epoch 128/200\n",
      "38/38 [==============================] - 4s 100ms/step - loss: 0.0012\n",
      "Epoch 129/200\n",
      "38/38 [==============================] - 4s 101ms/step - loss: 0.0013\n",
      "Epoch 130/200\n",
      "38/38 [==============================] - 4s 106ms/step - loss: 0.0013\n",
      "Epoch 131/200\n",
      "38/38 [==============================] - 4s 104ms/step - loss: 0.0013\n",
      "Epoch 132/200\n",
      "38/38 [==============================] - 4s 95ms/step - loss: 0.0014\n",
      "Epoch 133/200\n",
      "38/38 [==============================] - 4s 106ms/step - loss: 0.0013\n",
      "Epoch 134/200\n",
      "38/38 [==============================] - 5s 137ms/step - loss: 0.0012\n",
      "Epoch 135/200\n",
      "38/38 [==============================] - 5s 133ms/step - loss: 0.0013\n",
      "Epoch 136/200\n",
      "38/38 [==============================] - 6s 157ms/step - loss: 0.0011\n",
      "Epoch 137/200\n",
      "38/38 [==============================] - 5s 128ms/step - loss: 0.0013\n",
      "Epoch 138/200\n",
      "38/38 [==============================] - 5s 137ms/step - loss: 0.0014\n",
      "Epoch 139/200\n",
      "38/38 [==============================] - 5s 123ms/step - loss: 0.0010\n",
      "Epoch 140/200\n",
      "38/38 [==============================] - 5s 127ms/step - loss: 0.0011\n",
      "Epoch 141/200\n",
      "38/38 [==============================] - 5s 130ms/step - loss: 0.0011\n",
      "Epoch 142/200\n",
      "38/38 [==============================] - 5s 128ms/step - loss: 0.0012\n",
      "Epoch 143/200\n",
      "38/38 [==============================] - 5s 122ms/step - loss: 0.0011\n",
      "Epoch 144/200\n",
      "38/38 [==============================] - 5s 121ms/step - loss: 0.0012\n",
      "Epoch 145/200\n",
      "38/38 [==============================] - 5s 127ms/step - loss: 0.0012\n",
      "Epoch 146/200\n",
      "38/38 [==============================] - 5s 129ms/step - loss: 0.0012\n",
      "Epoch 147/200\n",
      "38/38 [==============================] - 5s 127ms/step - loss: 0.0011\n",
      "Epoch 148/200\n",
      "38/38 [==============================] - 4s 103ms/step - loss: 0.0013\n",
      "Epoch 149/200\n",
      "38/38 [==============================] - 4s 102ms/step - loss: 0.0010\n",
      "Epoch 150/200\n",
      "38/38 [==============================] - 4s 103ms/step - loss: 0.0010\n",
      "Epoch 151/200\n",
      "38/38 [==============================] - 4s 102ms/step - loss: 0.0013\n",
      "Epoch 152/200\n",
      "38/38 [==============================] - 4s 102ms/step - loss: 0.0011\n",
      "Epoch 153/200\n",
      "38/38 [==============================] - 4s 104ms/step - loss: 0.0011\n",
      "Epoch 154/200\n",
      "38/38 [==============================] - 4s 102ms/step - loss: 9.8396e-04\n",
      "Epoch 155/200\n",
      "38/38 [==============================] - 4s 102ms/step - loss: 0.0012\n",
      "Epoch 156/200\n",
      "38/38 [==============================] - 4s 103ms/step - loss: 0.0011\n",
      "Epoch 157/200\n",
      "38/38 [==============================] - 4s 102ms/step - loss: 9.5969e-04\n",
      "Epoch 158/200\n",
      "38/38 [==============================] - 4s 104ms/step - loss: 0.0011\n",
      "Epoch 159/200\n",
      "38/38 [==============================] - 4s 106ms/step - loss: 0.0011\n",
      "Epoch 160/200\n",
      "38/38 [==============================] - 4s 103ms/step - loss: 0.0011\n",
      "Epoch 161/200\n",
      "38/38 [==============================] - 4s 102ms/step - loss: 0.0012\n",
      "Epoch 162/200\n",
      "38/38 [==============================] - 4s 103ms/step - loss: 9.7754e-04\n",
      "Epoch 163/200\n",
      "38/38 [==============================] - 4s 105ms/step - loss: 0.0010\n",
      "Epoch 164/200\n",
      "38/38 [==============================] - 4s 110ms/step - loss: 0.0011\n",
      "Epoch 165/200\n",
      "38/38 [==============================] - 4s 104ms/step - loss: 9.9775e-04\n",
      "Epoch 166/200\n",
      "38/38 [==============================] - 4s 102ms/step - loss: 0.0011\n",
      "Epoch 167/200\n",
      "38/38 [==============================] - 4s 104ms/step - loss: 0.0012\n",
      "Epoch 168/200\n",
      "38/38 [==============================] - 4s 102ms/step - loss: 0.0011\n",
      "Epoch 169/200\n",
      "38/38 [==============================] - 4s 102ms/step - loss: 0.0010\n",
      "Epoch 170/200\n",
      "38/38 [==============================] - 4s 103ms/step - loss: 9.2148e-04\n",
      "Epoch 171/200\n",
      "38/38 [==============================] - 4s 103ms/step - loss: 0.0010\n",
      "Epoch 172/200\n",
      "38/38 [==============================] - 4s 106ms/step - loss: 0.0011\n",
      "Epoch 173/200\n",
      "38/38 [==============================] - 4s 104ms/step - loss: 0.0011\n",
      "Epoch 174/200\n",
      "38/38 [==============================] - 4s 101ms/step - loss: 0.0011\n",
      "Epoch 175/200\n",
      "38/38 [==============================] - 4s 103ms/step - loss: 0.0010\n",
      "Epoch 176/200\n",
      "38/38 [==============================] - 4s 104ms/step - loss: 9.9310e-04\n",
      "Epoch 177/200\n",
      "38/38 [==============================] - 4s 102ms/step - loss: 0.0011\n",
      "Epoch 178/200\n",
      "38/38 [==============================] - 4s 105ms/step - loss: 9.4184e-04\n",
      "Epoch 179/200\n",
      "38/38 [==============================] - 4s 102ms/step - loss: 0.0010\n",
      "Epoch 180/200\n",
      "38/38 [==============================] - 4s 103ms/step - loss: 0.0010\n",
      "Epoch 181/200\n",
      "38/38 [==============================] - 4s 104ms/step - loss: 0.0012\n",
      "Epoch 182/200\n",
      "38/38 [==============================] - 4s 102ms/step - loss: 0.0011\n",
      "Epoch 183/200\n",
      "38/38 [==============================] - 4s 103ms/step - loss: 9.8573e-04\n",
      "Epoch 184/200\n",
      "38/38 [==============================] - 4s 103ms/step - loss: 0.0011\n",
      "Epoch 185/200\n",
      "38/38 [==============================] - 4s 102ms/step - loss: 9.4741e-04\n",
      "Epoch 186/200\n",
      "38/38 [==============================] - 4s 102ms/step - loss: 9.4641e-04\n",
      "Epoch 187/200\n",
      "38/38 [==============================] - 4s 104ms/step - loss: 9.4028e-04\n",
      "Epoch 188/200\n",
      "38/38 [==============================] - 4s 102ms/step - loss: 0.0013\n",
      "Epoch 189/200\n",
      "38/38 [==============================] - 4s 101ms/step - loss: 0.0011\n",
      "Epoch 190/200\n",
      "38/38 [==============================] - 4s 101ms/step - loss: 0.0010\n",
      "Epoch 191/200\n",
      "38/38 [==============================] - 4s 102ms/step - loss: 9.5734e-04\n",
      "Epoch 192/200\n",
      "38/38 [==============================] - 4s 102ms/step - loss: 0.0011\n",
      "Epoch 193/200\n",
      "38/38 [==============================] - 4s 103ms/step - loss: 0.0011\n",
      "Epoch 194/200\n",
      "38/38 [==============================] - 4s 105ms/step - loss: 0.0011\n",
      "Epoch 195/200\n",
      "38/38 [==============================] - 4s 103ms/step - loss: 0.0010\n",
      "Epoch 196/200\n",
      "38/38 [==============================] - 4s 103ms/step - loss: 0.0011\n",
      "Epoch 197/200\n",
      "38/38 [==============================] - 4s 104ms/step - loss: 9.9033e-04\n",
      "Epoch 198/200\n",
      "38/38 [==============================] - 4s 104ms/step - loss: 9.8613e-04\n",
      "Epoch 199/200\n",
      "38/38 [==============================] - 4s 102ms/step - loss: 9.1968e-04\n",
      "Epoch 200/200\n",
      "38/38 [==============================] - 4s 102ms/step - loss: 9.7095e-04\n"
     ]
    },
    {
     "data": {
      "text/plain": [
       "<keras.callbacks.History at 0x1fee58eb5d0>"
      ]
     },
     "execution_count": 19,
     "metadata": {},
     "output_type": "execute_result"
    }
   ],
   "source": [
    "regressor.fit(X_train, y_train, epochs = 200, batch_size = 32)"
   ]
  },
  {
   "cell_type": "markdown",
   "metadata": {},
   "source": [
    "<hr>"
   ]
  },
  {
   "cell_type": "markdown",
   "metadata": {},
   "source": [
    "### Part 3 - Making The Predictions and Visualising The Results"
   ]
  },
  {
   "cell_type": "markdown",
   "metadata": {},
   "source": [
    "#### Getting The Real Stock Price of 2017"
   ]
  },
  {
   "cell_type": "code",
   "execution_count": 20,
   "metadata": {},
   "outputs": [],
   "source": [
    "dataset_test = pd.read_csv(\"dataset/Google_Stock_Price_Test.csv\")\n",
    "real_stock_price = dataset_test.iloc[:, 1:2].values"
   ]
  },
  {
   "cell_type": "code",
   "execution_count": 21,
   "metadata": {},
   "outputs": [
    {
     "data": {
      "text/html": [
       "<div>\n",
       "<style scoped>\n",
       "    .dataframe tbody tr th:only-of-type {\n",
       "        vertical-align: middle;\n",
       "    }\n",
       "\n",
       "    .dataframe tbody tr th {\n",
       "        vertical-align: top;\n",
       "    }\n",
       "\n",
       "    .dataframe thead th {\n",
       "        text-align: right;\n",
       "    }\n",
       "</style>\n",
       "<table border=\"1\" class=\"dataframe\">\n",
       "  <thead>\n",
       "    <tr style=\"text-align: right;\">\n",
       "      <th></th>\n",
       "      <th>Date</th>\n",
       "      <th>Open</th>\n",
       "      <th>High</th>\n",
       "      <th>Low</th>\n",
       "      <th>Close</th>\n",
       "      <th>Volume</th>\n",
       "    </tr>\n",
       "  </thead>\n",
       "  <tbody>\n",
       "    <tr>\n",
       "      <th>0</th>\n",
       "      <td>1/3/2017</td>\n",
       "      <td>778.81</td>\n",
       "      <td>789.63</td>\n",
       "      <td>775.80</td>\n",
       "      <td>786.14</td>\n",
       "      <td>1,657,300</td>\n",
       "    </tr>\n",
       "    <tr>\n",
       "      <th>1</th>\n",
       "      <td>1/4/2017</td>\n",
       "      <td>788.36</td>\n",
       "      <td>791.34</td>\n",
       "      <td>783.16</td>\n",
       "      <td>786.90</td>\n",
       "      <td>1,073,000</td>\n",
       "    </tr>\n",
       "    <tr>\n",
       "      <th>2</th>\n",
       "      <td>1/5/2017</td>\n",
       "      <td>786.08</td>\n",
       "      <td>794.48</td>\n",
       "      <td>785.02</td>\n",
       "      <td>794.02</td>\n",
       "      <td>1,335,200</td>\n",
       "    </tr>\n",
       "    <tr>\n",
       "      <th>3</th>\n",
       "      <td>1/6/2017</td>\n",
       "      <td>795.26</td>\n",
       "      <td>807.90</td>\n",
       "      <td>792.20</td>\n",
       "      <td>806.15</td>\n",
       "      <td>1,640,200</td>\n",
       "    </tr>\n",
       "    <tr>\n",
       "      <th>4</th>\n",
       "      <td>1/9/2017</td>\n",
       "      <td>806.40</td>\n",
       "      <td>809.97</td>\n",
       "      <td>802.83</td>\n",
       "      <td>806.65</td>\n",
       "      <td>1,272,400</td>\n",
       "    </tr>\n",
       "    <tr>\n",
       "      <th>5</th>\n",
       "      <td>1/10/2017</td>\n",
       "      <td>807.86</td>\n",
       "      <td>809.13</td>\n",
       "      <td>803.51</td>\n",
       "      <td>804.79</td>\n",
       "      <td>1,176,800</td>\n",
       "    </tr>\n",
       "    <tr>\n",
       "      <th>6</th>\n",
       "      <td>1/11/2017</td>\n",
       "      <td>805.00</td>\n",
       "      <td>808.15</td>\n",
       "      <td>801.37</td>\n",
       "      <td>807.91</td>\n",
       "      <td>1,065,900</td>\n",
       "    </tr>\n",
       "    <tr>\n",
       "      <th>7</th>\n",
       "      <td>1/12/2017</td>\n",
       "      <td>807.14</td>\n",
       "      <td>807.39</td>\n",
       "      <td>799.17</td>\n",
       "      <td>806.36</td>\n",
       "      <td>1,353,100</td>\n",
       "    </tr>\n",
       "    <tr>\n",
       "      <th>8</th>\n",
       "      <td>1/13/2017</td>\n",
       "      <td>807.48</td>\n",
       "      <td>811.22</td>\n",
       "      <td>806.69</td>\n",
       "      <td>807.88</td>\n",
       "      <td>1,099,200</td>\n",
       "    </tr>\n",
       "    <tr>\n",
       "      <th>9</th>\n",
       "      <td>1/17/2017</td>\n",
       "      <td>807.08</td>\n",
       "      <td>807.14</td>\n",
       "      <td>800.37</td>\n",
       "      <td>804.61</td>\n",
       "      <td>1,362,100</td>\n",
       "    </tr>\n",
       "    <tr>\n",
       "      <th>10</th>\n",
       "      <td>1/18/2017</td>\n",
       "      <td>805.81</td>\n",
       "      <td>806.21</td>\n",
       "      <td>800.99</td>\n",
       "      <td>806.07</td>\n",
       "      <td>1,294,400</td>\n",
       "    </tr>\n",
       "    <tr>\n",
       "      <th>11</th>\n",
       "      <td>1/19/2017</td>\n",
       "      <td>805.12</td>\n",
       "      <td>809.48</td>\n",
       "      <td>801.80</td>\n",
       "      <td>802.17</td>\n",
       "      <td>919,300</td>\n",
       "    </tr>\n",
       "    <tr>\n",
       "      <th>12</th>\n",
       "      <td>1/20/2017</td>\n",
       "      <td>806.91</td>\n",
       "      <td>806.91</td>\n",
       "      <td>801.69</td>\n",
       "      <td>805.02</td>\n",
       "      <td>1,670,000</td>\n",
       "    </tr>\n",
       "    <tr>\n",
       "      <th>13</th>\n",
       "      <td>1/23/2017</td>\n",
       "      <td>807.25</td>\n",
       "      <td>820.87</td>\n",
       "      <td>803.74</td>\n",
       "      <td>819.31</td>\n",
       "      <td>1,963,600</td>\n",
       "    </tr>\n",
       "    <tr>\n",
       "      <th>14</th>\n",
       "      <td>1/24/2017</td>\n",
       "      <td>822.30</td>\n",
       "      <td>825.90</td>\n",
       "      <td>817.82</td>\n",
       "      <td>823.87</td>\n",
       "      <td>1,474,000</td>\n",
       "    </tr>\n",
       "    <tr>\n",
       "      <th>15</th>\n",
       "      <td>1/25/2017</td>\n",
       "      <td>829.62</td>\n",
       "      <td>835.77</td>\n",
       "      <td>825.06</td>\n",
       "      <td>835.67</td>\n",
       "      <td>1,494,500</td>\n",
       "    </tr>\n",
       "    <tr>\n",
       "      <th>16</th>\n",
       "      <td>1/26/2017</td>\n",
       "      <td>837.81</td>\n",
       "      <td>838.00</td>\n",
       "      <td>827.01</td>\n",
       "      <td>832.15</td>\n",
       "      <td>2,973,900</td>\n",
       "    </tr>\n",
       "    <tr>\n",
       "      <th>17</th>\n",
       "      <td>1/27/2017</td>\n",
       "      <td>834.71</td>\n",
       "      <td>841.95</td>\n",
       "      <td>820.44</td>\n",
       "      <td>823.31</td>\n",
       "      <td>2,965,800</td>\n",
       "    </tr>\n",
       "    <tr>\n",
       "      <th>18</th>\n",
       "      <td>1/30/2017</td>\n",
       "      <td>814.66</td>\n",
       "      <td>815.84</td>\n",
       "      <td>799.80</td>\n",
       "      <td>802.32</td>\n",
       "      <td>3,246,600</td>\n",
       "    </tr>\n",
       "    <tr>\n",
       "      <th>19</th>\n",
       "      <td>1/31/2017</td>\n",
       "      <td>796.86</td>\n",
       "      <td>801.25</td>\n",
       "      <td>790.52</td>\n",
       "      <td>796.79</td>\n",
       "      <td>2,160,600</td>\n",
       "    </tr>\n",
       "  </tbody>\n",
       "</table>\n",
       "</div>"
      ],
      "text/plain": [
       "         Date    Open    High     Low   Close     Volume\n",
       "0    1/3/2017  778.81  789.63  775.80  786.14  1,657,300\n",
       "1    1/4/2017  788.36  791.34  783.16  786.90  1,073,000\n",
       "2    1/5/2017  786.08  794.48  785.02  794.02  1,335,200\n",
       "3    1/6/2017  795.26  807.90  792.20  806.15  1,640,200\n",
       "4    1/9/2017  806.40  809.97  802.83  806.65  1,272,400\n",
       "5   1/10/2017  807.86  809.13  803.51  804.79  1,176,800\n",
       "6   1/11/2017  805.00  808.15  801.37  807.91  1,065,900\n",
       "7   1/12/2017  807.14  807.39  799.17  806.36  1,353,100\n",
       "8   1/13/2017  807.48  811.22  806.69  807.88  1,099,200\n",
       "9   1/17/2017  807.08  807.14  800.37  804.61  1,362,100\n",
       "10  1/18/2017  805.81  806.21  800.99  806.07  1,294,400\n",
       "11  1/19/2017  805.12  809.48  801.80  802.17    919,300\n",
       "12  1/20/2017  806.91  806.91  801.69  805.02  1,670,000\n",
       "13  1/23/2017  807.25  820.87  803.74  819.31  1,963,600\n",
       "14  1/24/2017  822.30  825.90  817.82  823.87  1,474,000\n",
       "15  1/25/2017  829.62  835.77  825.06  835.67  1,494,500\n",
       "16  1/26/2017  837.81  838.00  827.01  832.15  2,973,900\n",
       "17  1/27/2017  834.71  841.95  820.44  823.31  2,965,800\n",
       "18  1/30/2017  814.66  815.84  799.80  802.32  3,246,600\n",
       "19  1/31/2017  796.86  801.25  790.52  796.79  2,160,600"
      ]
     },
     "execution_count": 21,
     "metadata": {},
     "output_type": "execute_result"
    }
   ],
   "source": [
    "dataset_test"
   ]
  },
  {
   "cell_type": "code",
   "execution_count": 22,
   "metadata": {},
   "outputs": [
    {
     "data": {
      "text/plain": [
       "array([[778.81],\n",
       "       [788.36],\n",
       "       [786.08],\n",
       "       [795.26],\n",
       "       [806.4 ],\n",
       "       [807.86],\n",
       "       [805.  ],\n",
       "       [807.14],\n",
       "       [807.48],\n",
       "       [807.08],\n",
       "       [805.81],\n",
       "       [805.12],\n",
       "       [806.91],\n",
       "       [807.25],\n",
       "       [822.3 ],\n",
       "       [829.62],\n",
       "       [837.81],\n",
       "       [834.71],\n",
       "       [814.66],\n",
       "       [796.86]])"
      ]
     },
     "execution_count": 22,
     "metadata": {},
     "output_type": "execute_result"
    }
   ],
   "source": [
    "real_stock_price"
   ]
  },
  {
   "cell_type": "markdown",
   "metadata": {},
   "source": [
    "#### Getting The Predicted Stock Price of 2017"
   ]
  },
  {
   "cell_type": "code",
   "execution_count": 23,
   "metadata": {},
   "outputs": [
    {
     "name": "stdout",
     "output_type": "stream",
     "text": [
      "1/1 [==============================] - 4s 4s/step\n"
     ]
    }
   ],
   "source": [
    "# For horizontal concatenation -> axis = 1\n",
    "# For vertical concatenation -> axis = 0\n",
    "dataset_total = pd.concat((dataset_train[\"Open\"], dataset_test[\"Open\"]), axis = 0)\n",
    "\n",
    "inputs = dataset_total[len(dataset_total) - len(dataset_test) - 60:].values\n",
    "inputs = inputs.reshape(-1, 1)\n",
    "inputs = sc.transform(inputs)\n",
    "\n",
    "X_test = []\n",
    "\n",
    "for i in range(60, 80):\n",
    "    X_test.append(inputs[i-60:i, 0])\n",
    "\n",
    "X_test = np.array(X_test)\n",
    "X_test = np.reshape(X_test, (X_test.shape[0], X_test.shape[1], 1))\n",
    "\n",
    "predicted_stock_price = regressor.predict(X_test)\n",
    "predicted_stock_price = sc.inverse_transform(predicted_stock_price)"
   ]
  },
  {
   "cell_type": "code",
   "execution_count": 24,
   "metadata": {},
   "outputs": [
    {
     "data": {
      "text/plain": [
       "0     325.25\n",
       "1     331.27\n",
       "2     329.83\n",
       "3     328.34\n",
       "4     322.04\n",
       "       ...  \n",
       "15    829.62\n",
       "16    837.81\n",
       "17    834.71\n",
       "18    814.66\n",
       "19    796.86\n",
       "Name: Open, Length: 1278, dtype: float64"
      ]
     },
     "execution_count": 24,
     "metadata": {},
     "output_type": "execute_result"
    }
   ],
   "source": [
    "dataset_total"
   ]
  },
  {
   "cell_type": "code",
   "execution_count": 25,
   "metadata": {},
   "outputs": [
    {
     "data": {
      "text/plain": [
       "array([[0.9299055 ],\n",
       "       [0.93113327],\n",
       "       [0.92750577],\n",
       "       [0.94415507],\n",
       "       [0.93876032],\n",
       "       [0.93403527],\n",
       "       [0.93483518],\n",
       "       [0.9313937 ],\n",
       "       [0.94636878],\n",
       "       [0.96569685],\n",
       "       [0.97510976],\n",
       "       [0.95966962],\n",
       "       [0.97808617],\n",
       "       [1.        ],\n",
       "       [0.98076494],\n",
       "       [0.97083116],\n",
       "       [0.98450406],\n",
       "       [0.96054394],\n",
       "       [0.9371419 ],\n",
       "       [0.92841729],\n",
       "       [0.90804747],\n",
       "       [0.8771858 ],\n",
       "       [0.92153434],\n",
       "       [0.93809063],\n",
       "       [0.93165414],\n",
       "       [0.95254483],\n",
       "       [0.88812412],\n",
       "       [0.88637547],\n",
       "       [0.87032145],\n",
       "       [0.88563137],\n",
       "       [0.90743359],\n",
       "       [0.91571173],\n",
       "       [0.89941588],\n",
       "       [0.91805566],\n",
       "       [0.9089404 ],\n",
       "       [0.9024853 ],\n",
       "       [0.89456061],\n",
       "       [0.91600938],\n",
       "       [0.9132934 ],\n",
       "       [0.88979835],\n",
       "       [0.86589404],\n",
       "       [0.89030062],\n",
       "       [0.90335962],\n",
       "       [0.89642086],\n",
       "       [0.91777662],\n",
       "       [0.93176576],\n",
       "       [0.94114145],\n",
       "       [0.95762334],\n",
       "       [0.96413424],\n",
       "       [0.96402262],\n",
       "       [0.96971501],\n",
       "       [0.95077759],\n",
       "       [0.96294367],\n",
       "       [0.96123223],\n",
       "       [0.95475854],\n",
       "       [0.95204256],\n",
       "       [0.95163331],\n",
       "       [0.95725128],\n",
       "       [0.93796041],\n",
       "       [0.93688146],\n",
       "       [0.92955205],\n",
       "       [0.94731751],\n",
       "       [0.94307612],\n",
       "       [0.96015329],\n",
       "       [0.98087655],\n",
       "       [0.98359253],\n",
       "       [0.97827219],\n",
       "       [0.98225314],\n",
       "       [0.98288563],\n",
       "       [0.98214153],\n",
       "       [0.979779  ],\n",
       "       [0.97849542],\n",
       "       [0.98182528],\n",
       "       [0.98245777],\n",
       "       [1.01045465],\n",
       "       [1.02407173],\n",
       "       [1.03930724],\n",
       "       [1.03354044],\n",
       "       [0.99624228],\n",
       "       [0.9631297 ]])"
      ]
     },
     "execution_count": 25,
     "metadata": {},
     "output_type": "execute_result"
    }
   ],
   "source": [
    "inputs"
   ]
  },
  {
   "cell_type": "code",
   "execution_count": 26,
   "metadata": {},
   "outputs": [
    {
     "data": {
      "text/plain": [
       "array([[[0.9299055 ],\n",
       "        [0.93113327],\n",
       "        [0.92750577],\n",
       "        ...,\n",
       "        [0.95725128],\n",
       "        [0.93796041],\n",
       "        [0.93688146]],\n",
       "\n",
       "       [[0.93113327],\n",
       "        [0.92750577],\n",
       "        [0.94415507],\n",
       "        ...,\n",
       "        [0.93796041],\n",
       "        [0.93688146],\n",
       "        [0.92955205]],\n",
       "\n",
       "       [[0.92750577],\n",
       "        [0.94415507],\n",
       "        [0.93876032],\n",
       "        ...,\n",
       "        [0.93688146],\n",
       "        [0.92955205],\n",
       "        [0.94731751]],\n",
       "\n",
       "       ...,\n",
       "\n",
       "       [[0.96054394],\n",
       "        [0.9371419 ],\n",
       "        [0.92841729],\n",
       "        ...,\n",
       "        [1.01045465],\n",
       "        [1.02407173],\n",
       "        [1.03930724]],\n",
       "\n",
       "       [[0.9371419 ],\n",
       "        [0.92841729],\n",
       "        [0.90804747],\n",
       "        ...,\n",
       "        [1.02407173],\n",
       "        [1.03930724],\n",
       "        [1.03354044]],\n",
       "\n",
       "       [[0.92841729],\n",
       "        [0.90804747],\n",
       "        [0.8771858 ],\n",
       "        ...,\n",
       "        [1.03930724],\n",
       "        [1.03354044],\n",
       "        [0.99624228]]])"
      ]
     },
     "execution_count": 26,
     "metadata": {},
     "output_type": "execute_result"
    }
   ],
   "source": [
    "X_test"
   ]
  },
  {
   "cell_type": "code",
   "execution_count": 27,
   "metadata": {},
   "outputs": [
    {
     "data": {
      "text/plain": [
       "array([[782.24646],\n",
       "       [780.1209 ],\n",
       "       [785.9511 ],\n",
       "       [785.6777 ],\n",
       "       [790.63586],\n",
       "       [799.3812 ],\n",
       "       [801.3091 ],\n",
       "       [798.985  ],\n",
       "       [800.4797 ],\n",
       "       [801.86975],\n",
       "       [801.8918 ],\n",
       "       [801.16125],\n",
       "       [800.8229 ],\n",
       "       [802.2057 ],\n",
       "       [802.80725],\n",
       "       [812.77167],\n",
       "       [819.29004],\n",
       "       [824.4735 ],\n",
       "       [823.1125 ],\n",
       "       [810.2144 ]], dtype=float32)"
      ]
     },
     "execution_count": 27,
     "metadata": {},
     "output_type": "execute_result"
    }
   ],
   "source": [
    "predicted_stock_price"
   ]
  },
  {
   "cell_type": "markdown",
   "metadata": {},
   "source": [
    "#### Visualising the Results"
   ]
  },
  {
   "cell_type": "code",
   "execution_count": 28,
   "metadata": {},
   "outputs": [
    {
     "data": {
      "image/png": "[encoded data removed]",
      "text/plain": [
       "<Figure size 640x480 with 1 Axes>"
      ]
     },
     "metadata": {},
     "output_type": "display_data"
    }
   ],
   "source": [
    "plt.plot(real_stock_price, color = \"red\", label = \"Real Google Stock Price\")\n",
    "plt.plot(predicted_stock_price, color = \"blue\", label = \"Predicted Google Stock Price\")\n",
    "\n",
    "plt.title(\"Google Stock Price Prediction\")\n",
    "plt.xlabel(\"Time\")\n",
    "plt.ylabel(\"Google Stock Price\")\n",
    "plt.legend()\n",
    "plt.show()"
   ]
  },
  {
   "cell_type": "markdown",
   "metadata": {},
   "source": [
    "<hr>"
   ]
  }
 ],
 "metadata": {
  "kernelspec": {
   "display_name": "Python 3",
   "language": "python",
   "name": "python3"
  },
  "language_info": {
   "codemirror_mode": {
    "name": "ipython",
    "version": 3
   },
   "file_extension": ".py",
   "mimetype": "text/x-python",
   "name": "python",
   "nbconvert_exporter": "python",
   "pygments_lexer": "ipython3",
   "version": "3.11.4"
  }
 },
 "nbformat": 4,
 "nbformat_minor": 2
}
